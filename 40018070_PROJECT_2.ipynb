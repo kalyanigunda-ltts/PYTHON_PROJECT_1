{
 "cells": [
  {
   "cell_type": "code",
   "execution_count": 13,
   "id": "3fd0e3e5",
   "metadata": {},
   "outputs": [
    {
     "name": "stdout",
     "output_type": "stream",
     "text": [
      "Enter the Date of the birthday:28 19 2011\n",
      "Please follow  the input format as '00 00 0000'...\n",
      "None\n"
     ]
    }
   ],
   "source": [
    "import datetime\n",
    "import calendar\n",
    "class DOB:\n",
    "    def FindaDay(self):\n",
    "        try:\n",
    "            birthday = str(input(\"Enter the Date of the birthday:\"))\n",
    "            days = ['Monday','Tuesday','Wednesday','Thursday','Friday','Saturday','Sunday']\n",
    "            day = datetime.datetime.strptime(birthday,'%d %m %Y').weekday()\n",
    "            return days[day]\n",
    "        except ValueError as error:\n",
    "            print(\"Please follow  the input format as '00 00 0000'...\")\n",
    "dob = DOB()\n",
    "print(dob.FindaDay())"
   ]
  },
  {
   "cell_type": "code",
   "execution_count": null,
   "id": "213226f9",
   "metadata": {},
   "outputs": [],
   "source": []
  }
 ],
 "metadata": {
  "kernelspec": {
   "display_name": "Python 3 (ipykernel)",
   "language": "python",
   "name": "python3"
  },
  "language_info": {
   "codemirror_mode": {
    "name": "ipython",
    "version": 3
   },
   "file_extension": ".py",
   "mimetype": "text/x-python",
   "name": "python",
   "nbconvert_exporter": "python",
   "pygments_lexer": "ipython3",
   "version": "3.9.12"
  }
 },
 "nbformat": 4,
 "nbformat_minor": 5
}
